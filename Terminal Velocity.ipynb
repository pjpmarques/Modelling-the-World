{
 "metadata": {
  "name": ""
 },
 "nbformat": 3,
 "nbformat_minor": 0,
 "worksheets": [
  {
   "cells": [
    {
     "cell_type": "markdown",
     "metadata": {
      "slideshow": {
       "slide_type": "slide"
      }
     },
     "source": [
      "# Terminal Velocity\n",
      "by [Paulo Marques](http://pmarques.eu), 2013/09/23\n",
      "\n",
      "---\n",
      "\n",
      "This notebook discusses the <a href=\"http://en.wikipedia.org/wiki/Drag_(physics)\">drag forces</a> exerted on a body when traveling through air.   \n"
     ]
    },
    {
     "cell_type": "markdown",
     "metadata": {},
     "source": [
      "![](http://upload.wikimedia.org/wikipedia/en/8/89/Parachuters_in_hybrid_formation.jpg)  "
     ]
    },
    {
     "cell_type": "markdown",
     "metadata": {},
     "source": [
      "A falling body is subject to two forces: a downward force, $\\vec{F_g}$, due to gravity, and an upward force $\\vec{F_a}$, due to air resistance. Let's consider a body with mass $m$. Assuming an upward oriented YY axis, the following applies:\n",
      "\n",
      "$$ F_g = - g \\cdot m $$\n",
      "\n",
      "$$ F_a = - sgn(v) \\cdot {1 \\over 2} \\rho C_D A v^2 $$\n",
      "\n",
      "In these formulas, $m$ is the mass of the body, $\\rho$ is the density of air ($\\approx 1.2 Kg/m^3$), $g$ is the accelaration of gravity ($\\approx 9.8 m/s^2$), $v$ is the velocity of the body, $C_D$ is the drag coeficient of the body and $A$ is its cross-section area. $sgn(x)$ is the sign function that given a number returns +1 for positives and -1 for negatives. In the formula it makes the force always contrary to the movement of the body.\n",
      "\n",
      "Thus, the resulting force $\\vec{F}$ experienced by the body is:\n",
      "\n",
      "$$ F = - g \\cdot m - sgn(v) \\cdot {1 \\over 2} \\rho C_D A v^2 $$\n",
      "\n",
      "Given that force is directly related to accelaration, and accelaration to velocity:\n",
      "\n",
      "$$ v = \\frac{dy}{dt} $$\n",
      "\n",
      "$$ F = m \\cdot \\frac{dv}{dt} $$\n",
      "\n",
      "substituting, we get this differencial equation:\n",
      "\n",
      "$$ m \\cdot \\frac{dv}{dt} = - g \\cdot m - sgn(v) \\cdot {1 \\over 2} \\rho C_D A v^2 $$\n",
      "\n",
      "In fact, this can be expressed as a system of differential equations in the form ${\\bf f}' = {\\bf g}({\\bf f}, t)$:\n",
      "\n",
      "$$ \\begin{cases} \\frac{dy}{dt} = v \\\\ \\frac{dv}{dt} = -g - sgn(v) \\cdot {1 \\over 2} {\\rho \\over m} C_D A v^2 \\end{cases} $$\n",
      "\n",
      "---\n",
      "\n",
      "So, let's simulate this with Python!\n",
      "\n",
      "Let's start by importing some basic libraries:"
     ]
    },
    {
     "cell_type": "code",
     "collapsed": false,
     "input": [
      "%pylab inline\n",
      "from scipy.integrate import odeint\n",
      "from math import sqrt, atan"
     ],
     "language": "python",
     "metadata": {},
     "outputs": [
      {
       "output_type": "stream",
       "stream": "stdout",
       "text": [
        "Populating the interactive namespace from numpy and matplotlib\n"
       ]
      }
     ],
     "prompt_number": 1
    },
    {
     "cell_type": "markdown",
     "metadata": {},
     "source": [
      "We now define the initial conditions and constants of the problem."
     ]
    },
    {
     "cell_type": "code",
     "collapsed": false,
     "input": [
      "# Constants \n",
      "g  = 9.8                # Accelaration of gravity\n",
      "p  = 1.2                # Density of air\n",
      "\n",
      "# Caracteristics of the problem\n",
      "m  = 0.100              # A 100 g ball\n",
      "r  = 0.10               # 10 cm radius\n",
      "Cd = 0.5                # Drag coeficient for a small spherical object\n",
      "y0 = 1000.0             # Initial height of the body (1000 m)\n",
      "v0 = 10.0               # Initial velocity of the body (10 m/s^2, going up)\n",
      "A  = math.pi*r**2       # Cross-section area of the body"
     ],
     "language": "python",
     "metadata": {},
     "outputs": [],
     "prompt_number": 2
    },
    {
     "cell_type": "markdown",
     "metadata": {},
     "source": [
      "As said, let's define a system of ordinary differential equations in its normal form ${\\bf f}' = {\\bf g}({\\bf f}, t)$. (In the code bellow we substitute $g()$ for $gm()$ so that it doesn't clash with the acceleration of gravity constant - $g$)."
     ]
    },
    {
     "cell_type": "code",
     "collapsed": false,
     "input": [
      "sgn = lambda x: math.copysign(1, x)                     # Auxiliary function to calculate the sign of a number\n",
      "\n",
      "def gm(f, t):\n",
      "    (y, v) = f                                          # Extract y and v (i.e., dy/dy) from the f mapping\n",
      "    \n",
      "    dy_dt = v                                           # The differential equations\n",
      "    dv_dt = -1.0*g - sgn(v)*(1./2.)*(p/m)*Cd*A*v**2\n",
      "    \n",
      "    return [dy_dt, dv_dt]                               # Return the derivatives"
     ],
     "language": "python",
     "metadata": {},
     "outputs": [],
     "prompt_number": 3
    },
    {
     "cell_type": "markdown",
     "metadata": {},
     "source": [
      "Let's define the conditions to numerically solve the problem, including a time vector:"
     ]
    },
    {
     "cell_type": "code",
     "collapsed": false,
     "input": [
      "# Initial conditions (position and velocity)\n",
      "start = [y0, v0]\n",
      "\n",
      "# Time vector (from 0 to 5 secs)\n",
      "tf = 5.0 \n",
      "t = linspace(0, tf, tf*100)"
     ],
     "language": "python",
     "metadata": {},
     "outputs": [],
     "prompt_number": 4
    },
    {
     "cell_type": "markdown",
     "metadata": {},
     "source": [
      "Now let's solve the equations numericaly and extract the corresponding $y(t)$ and $v(t)$:"
     ]
    },
    {
     "cell_type": "code",
     "collapsed": false,
     "input": [
      "f = odeint(gm, start, t)\n",
      "\n",
      "y = f[:, 0]\n",
      "v = f[:, 1]"
     ],
     "language": "python",
     "metadata": {},
     "outputs": [],
     "prompt_number": 5
    },
    {
     "cell_type": "markdown",
     "metadata": {},
     "source": [
      "Finally, we can plot the solution."
     ]
    },
    {
     "cell_type": "code",
     "collapsed": false,
     "input": [
      "figure(figsize=(14, 6))\n",
      "subplot(1, 2, 1, title='Velocity over time')\n",
      "xlabel('Time (sec)')\n",
      "ylabel('Velocity (m/sec)')\n",
      "plot(t, v)\n",
      "subplot(1, 2, 2, title='Height over time')\n",
      "xlabel('Time (sec)')\n",
      "ylabel('Height (m)')\n",
      "plot(t, y)"
     ],
     "language": "python",
     "metadata": {},
     "outputs": [
      {
       "metadata": {},
       "output_type": "pyout",
       "prompt_number": 6,
       "text": [
        "[<matplotlib.lines.Line2D at 0x109394d90>]"
       ]
      },
      {
       "metadata": {},
       "output_type": "display_data",
       "png": "[encoded data removed]",
       "text": [
        "<matplotlib.figure.Figure at 0x109168190>"
       ]
      }
     ],
     "prompt_number": 6
    },
    {
     "cell_type": "markdown",
     "metadata": {},
     "source": [
      "As you can see, the velocity starts at 10 $m/s^2$, with the ball going up. It's velocity starts decreasing, goes to zero at max hight, and then becomes negative as the ball starts coming down. After a while it reaches it's maximum speed at terminal velocity. "
     ]
    },
    {
     "cell_type": "markdown",
     "metadata": {},
     "source": [
      "The theorerically [terminal velocity](http://en.wikipedia.org/wiki/Terminal_velocity), $V_t$, is:\n",
      "\n",
      "$$ V_t = \\sqrt{\\frac{2 m g}{\\rho A C_D}} $$"
     ]
    },
    {
     "cell_type": "code",
     "collapsed": false,
     "input": [
      "vt = sqrt( (2.*m*g) / (p*A*Cd) )\n",
      "vt"
     ],
     "language": "python",
     "metadata": {},
     "outputs": [
      {
       "metadata": {},
       "output_type": "pyout",
       "prompt_number": 7,
       "text": [
        "10.197118685526071"
       ]
      }
     ],
     "prompt_number": 7
    },
    {
     "cell_type": "markdown",
     "metadata": {},
     "source": [
      "The numerically found terminal velocity is:"
     ]
    },
    {
     "cell_type": "code",
     "collapsed": false,
     "input": [
      "# The terminal velocity\n",
      "vt_numeric = abs(min(v))\n",
      "vt_numeric"
     ],
     "language": "python",
     "metadata": {},
     "outputs": [
      {
       "metadata": {},
       "output_type": "pyout",
       "prompt_number": 8,
       "text": [
        "10.190673023395068"
       ]
      }
     ],
     "prompt_number": 8
    },
    {
     "cell_type": "markdown",
     "metadata": {},
     "source": [
      "Now, that's what I call pretty neat!"
     ]
    },
    {
     "cell_type": "markdown",
     "metadata": {},
     "source": [
      "---\n",
      "\n",
      "# MIT LICENSE\n",
      "\n",
      "> Copyright (C) 2013 Paulo Marques (pjp.marques@gmail.com)\n",
      ">\n",
      "> Permission is hereby granted, free of charge, to any person obtaining a copy of \n",
      "> this software and associated documentation files (the \"Software\"), to deal in\n",
      "> the Software without restriction, including without limitation the rights to\n",
      "> use, copy, modify, merge, publish, distribute, sublicense, and/or sell copies of\n",
      "> the Software, and to permit persons to whom the Software is furnished to do so,\n",
      "> subject to the following conditions:\n",
      ">  \n",
      "> The above copyright notice and this permission notice shall be included in all \n",
      "> copies or substantial portions of the Software.\n",
      "> \n",
      "> THE SOFTWARE IS PROVIDED \"AS IS\", WITHOUT WARRANTY OF ANY KIND, EXPRESS OR\n",
      "> IMPLIED, INCLUDING BUT NOT LIMITED TO THE WARRANTIES OF MERCHANTABILITY, FITNESS\n",
      "> FOR A PARTICULAR PURPOSE AND NONINFRINGEMENT. IN NO EVENT SHALL THE AUTHORS OR\n",
      "> COPYRIGHT HOLDERS BE LIABLE FOR ANY CLAIM, DAMAGES OR OTHER LIABILITY, WHETHER\n",
      "> IN AN ACTION OF CONTRACT, TORT OR OTHERWISE, ARISING FROM, OUT OF OR IN \n",
      "> CONNECTION WITH THE SOFTWARE OR THE USE OR OTHER DEALINGS IN THE SOFTWARE."
     ]
    }
   ],
   "metadata": {}
  }
 ]
}